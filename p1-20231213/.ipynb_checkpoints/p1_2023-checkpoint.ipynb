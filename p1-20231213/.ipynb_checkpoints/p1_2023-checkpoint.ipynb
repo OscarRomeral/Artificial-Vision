{
 "cells": [
  {
   "cell_type": "markdown",
   "metadata": {
    "id": "ORT-6ZVAwISx"
   },
   "source": [
    "# Computer Vision - P1\n",
    "\n",
    "### **Carefully read the following instructions before start coding.**"
   ]
  },
  {
   "cell_type": "markdown",
   "metadata": {
    "id": "NZaklL1AwISz"
   },
   "source": [
    "==============================================================================================\n",
    "## Delivery\n",
    "\n",
    "Up to **1 point out of 10** will be penalized if the following requirements are not fulfilled:\n",
    "\n",
    "- Implemented code should be commented.\n",
    "\n",
    "- The questions introduced in the exercises must be answered.\n",
    "\n",
    "- Add title to the figures to explain what is displayed.\n",
    "\n",
    "- Comments and answers need to be in **English**.\n",
    "\n",
    "- The deliverable must be a file named **P1_Student1_Student2.zip** that includes:\n",
    "    - The notebook P1_Student1_Student2.ipynb completed with the solutions to the exercises and their corresponding comments.\n",
    "\n",
    "**Deadline (Campus Virtual): October, 3, 2023 23:00 h**"
   ]
  },
  {
   "cell_type": "markdown",
   "metadata": {
    "id": "QlNClg-9wISz"
   },
   "source": [
    "==============================================================================================\n",
    "\n",
    "## Practicum 1: Basics on Image Processing and Manipulation\n",
    "==============================================================================================\n",
    "\n",
    "The main topics are:\n",
    "\n",
    "1. Image loading, saving and creation\n",
    "\n",
    "2. Color manipulation\n",
    "\n",
    "In order to complete this practicum, we will work with the following concepts: image creation, data types, image manipulation."
   ]
  },
  {
   "cell_type": "markdown",
   "metadata": {
    "id": "ofHtqrluwIS0"
   },
   "source": [
    "==============================================================================================\n",
    "### Packages loading\n",
    "\n",
    "First we need to import the required Python packages for basic image manipulation.\n",
    "\n",
    "Run the following code:"
   ]
  },
  {
   "cell_type": "code",
   "execution_count": null,
   "metadata": {
    "id": "q_oBYJqRwIS0"
   },
   "outputs": [],
   "source": [
    "import numpy as np # useful for manipulating matrices\n",
    "from skimage import io # useful for image loading and saving\n",
    "from matplotlib import pyplot as plt # useful for plotting images on iPython or Jupyter Notebooks"
   ]
  },
  {
   "cell_type": "markdown",
   "metadata": {
    "id": "waq-kfBPwIS1"
   },
   "source": [
    "Note that commands starting with the percentage sign (`%`) are special internal commands to ipython (as opposed to Python code to be run). In the case below, we set the matplotlib environment to display images results inline (i.e. the images will be shown **inside the\n",
    "notebook**):"
   ]
  },
  {
   "cell_type": "code",
   "execution_count": null,
   "metadata": {
    "id": "5E5t6g0fwIS1"
   },
   "outputs": [],
   "source": [
    "%matplotlib inline"
   ]
  },
  {
   "cell_type": "markdown",
   "metadata": {
    "id": "aqZfRhxzwIS1"
   },
   "source": [
    "==============================================================================================\n",
    "### 1.1 Image creation"
   ]
  },
  {
   "cell_type": "markdown",
   "metadata": {
    "id": "yc7TWXGZwIS2"
   },
   "source": [
    "Remember that [Numpy](https://docs.scipy.org/doc/numpy-1.13.0/reference/) allows us to define images of different kinds treating them as matrices.\n",
    "\n",
    "The most common examples are:\n",
    "\n",
    "* Binary: with values of 0 or 1, interpreted as black or white, respectively.\n",
    "* Grayscale: with possible data types uint8, uint16, double, whose pixel values define their intensity.\n",
    "* RGB Image: color images consisting of 3 matrices (usually called 'channels'), which contain intensity values for each color separately R (red), G (green) and B (blue).\n"
   ]
  },
  {
   "cell_type": "markdown",
   "metadata": {
    "id": "zXJkVL8BwIS2"
   },
   "source": [
    "a) Create and display a grayscale image that has 150 rows and 300 columns where each value should be of type unsigned integer with 8 bits."
   ]
  },
  {
   "cell_type": "code",
   "execution_count": null,
   "metadata": {
    "id": "mKf-hoogwIS2"
   },
   "outputs": [],
   "source": [
    "#Your solution\n"
   ]
  },
  {
   "cell_type": "markdown",
   "metadata": {
    "id": "HqdrG4SMwIS2"
   },
   "source": [
    "How many different values can each pixel have in this case?"
   ]
  },
  {
   "cell_type": "code",
   "execution_count": null,
   "metadata": {
    "id": "Dz_hioUdwIS2"
   },
   "outputs": [],
   "source": [
    "#Your solution\n"
   ]
  },
  {
   "cell_type": "markdown",
   "metadata": {
    "id": "2_mNscgNJHf5"
   },
   "source": [
    "b) Create and display a **RGB image** that has 200 rows and 200 columns where each value should be of type unsigned integer with 8 bits. Then, transform it to grayscale.:"
   ]
  },
  {
   "cell_type": "code",
   "execution_count": null,
   "metadata": {
    "id": "ah50lD8BJHf5"
   },
   "outputs": [],
   "source": [
    "#Your solution"
   ]
  },
  {
   "cell_type": "markdown",
   "metadata": {
    "id": "UifvzI5owIS2"
   },
   "source": [
    "c) Change the color of the pixels of the image in section **a)** in such a way that the right half is white (255) and the left half is black (0).\n",
    "\n",
    "Visualize the image and print the values of its first row."
   ]
  },
  {
   "cell_type": "code",
   "execution_count": null,
   "metadata": {
    "id": "RRjHA6AowIS2"
   },
   "outputs": [],
   "source": [
    "#Your solution\n"
   ]
  },
  {
   "cell_type": "markdown",
   "metadata": {
    "id": "YiHgAJDDJHf6"
   },
   "source": [
    "d) Flip the image to create a mirror ilusion."
   ]
  },
  {
   "cell_type": "code",
   "execution_count": null,
   "metadata": {
    "id": "_2YvqR7AJHf6"
   },
   "outputs": [],
   "source": [
    "#Your solution"
   ]
  },
  {
   "cell_type": "markdown",
   "metadata": {
    "id": "yhhew4IuwIS2"
   },
   "source": [
    "### 1.2 Image saving and loading\n",
    "\n",
    "a) Use the IO image package to save the previously image:"
   ]
  },
  {
   "cell_type": "code",
   "execution_count": null,
   "metadata": {
    "id": "sw9lR2oCwIS3"
   },
   "outputs": [],
   "source": [
    "#Your solution\n"
   ]
  },
  {
   "cell_type": "markdown",
   "metadata": {
    "id": "OZhP15kTwIS3"
   },
   "source": [
    "b) Load the saved image and visualize it. Print the dimensions, the value of pixel (10,50) and data type in order to check everything is correct"
   ]
  },
  {
   "cell_type": "code",
   "execution_count": null,
   "metadata": {
    "id": "U9qpuDGkwIS3"
   },
   "outputs": [],
   "source": [
    "#Your solution\n"
   ]
  },
  {
   "cell_type": "markdown",
   "metadata": {
    "id": "jPPrjKytwIS3"
   },
   "source": [
    "### 1.3 Color image manipulation\n",
    "\n",
    "a) Load and show the image `images_notebook/dog.jpg`, and check its dimensions and data type.\n",
    "\n",
    "**Note:** Pictures may appear in the figure with pseudocolors. What commands to use in order to display them in **RGB** color and in **grayscale**?!"
   ]
  },
  {
   "cell_type": "code",
   "execution_count": null,
   "metadata": {
    "id": "QWPpysWSwIS3",
    "scrolled": true
   },
   "outputs": [],
   "source": [
    "#Your solution"
   ]
  },
  {
   "cell_type": "markdown",
   "metadata": {
    "collapsed": true,
    "id": "M5xIratLwIS3"
   },
   "source": [
    "b) Convert the previous image to grayscale, and **save it**.\n",
    "\n",
    "Moreover, plot the two images (RGB & greyscale) in a single figure, and show details such as shape, dtype, max and min values."
   ]
  },
  {
   "cell_type": "code",
   "execution_count": null,
   "metadata": {
    "id": "YVqQs3-TwIS3"
   },
   "outputs": [],
   "source": [
    "#Your solution"
   ]
  },
  {
   "cell_type": "markdown",
   "metadata": {
    "id": "bG1W1Gu9wIS3"
   },
   "source": [
    "c) Compute the mean of the previous grayscale image and use a logical operation to obtain a boolean image. Pixels greather than the mean value must be shown as white. Display the binary image."
   ]
  },
  {
   "cell_type": "code",
   "execution_count": null,
   "metadata": {
    "id": "UFy8dFwxwIS3"
   },
   "outputs": [],
   "source": [
    "#Your solution"
   ]
  },
  {
   "cell_type": "markdown",
   "metadata": {
    "id": "Pz1y0xvbwIS3"
   },
   "source": [
    "d) Visualize in the same figure all the three images: (1) the original image, (2) the gray image, and (3) the binarized image. Set the corresponding titles of the images and their descriptions"
   ]
  },
  {
   "cell_type": "code",
   "execution_count": null,
   "metadata": {
    "id": "8zdS1uN4wIS3"
   },
   "outputs": [],
   "source": [
    "#Your solution"
   ]
  },
  {
   "cell_type": "markdown",
   "metadata": {
    "id": "Fa2J8gR0wIS3"
   },
   "source": [
    "### 1.4 Images manipulation\n",
    "\n",
    "a) Create an RGB black image, 10% larger than the dog image. Afterwards, embed the dog image in the center. Show the framed image.\n",
    "\n",
    "**Note:** Be carefull with the number of channels.\n",
    "\n",
    "**Note:** Print the original image shape and the new image size to check if the sizes of the second one are 10% larger then the first one.\n"
   ]
  },
  {
   "cell_type": "code",
   "execution_count": null,
   "metadata": {
    "id": "Idaj29NWwIS4"
   },
   "outputs": [],
   "source": [
    "#Your solution"
   ]
  },
  {
   "cell_type": "markdown",
   "metadata": {
    "collapsed": true,
    "id": "-u6SLG3GwIS4"
   },
   "source": [
    "b) Change the frame of the new image to green. Visualize the three images: original, black frame and green frame, in one single figure, with their respective titles."
   ]
  },
  {
   "cell_type": "code",
   "execution_count": null,
   "metadata": {
    "id": "eOlu9GSfwIS4"
   },
   "outputs": [],
   "source": [
    "#Your solution"
   ]
  },
  {
   "cell_type": "markdown",
   "metadata": {
    "id": "nY_eTo4FwIS4"
   },
   "source": [
    "### 1.5 Contrast enhancement\n",
    "\n",
    "a) Open the image `images_notebook/car_lowContrast.jpg` and visualize it without graylevel enhancement. Print the image size, data type, minimum and maximum of the image.\n",
    "\n",
    "**Note:** When running the function `imshow()` the image is authomatically enhanced. Use the `vmin` and `vmax` parameters in order to deactivate the enhancement applied by default. To this purpose, check the data type and used the maximum and minimum value corresponding to this type.\n"
   ]
  },
  {
   "cell_type": "code",
   "execution_count": null,
   "metadata": {
    "id": "kFpUZR_7wIS4"
   },
   "outputs": [],
   "source": [
    "#Your solution"
   ]
  },
  {
   "cell_type": "markdown",
   "metadata": {
    "collapsed": true,
    "id": "4ofBeGh0wIS4"
   },
   "source": [
    "b) Create an image called `dark_image` using the  values from the original one. Compute the minimum value of the image and substract this value of the original image. Print the new maximum a minimum values. Show the new image without graylevel enhancement."
   ]
  },
  {
   "cell_type": "code",
   "execution_count": null,
   "metadata": {
    "id": "pApStwhGwIS4"
   },
   "outputs": [],
   "source": [
    "#Your solution"
   ]
  },
  {
   "cell_type": "markdown",
   "metadata": {
    "id": "FPKUImmZwIS4"
   },
   "source": [
    "c) Similarly to the previous question, create a new image called `bright_im` from the original one, so that the maximal value of the new image is 255. Check the minimal and maximal values of the new image, and show the new image without graylevel enhancement.\n"
   ]
  },
  {
   "cell_type": "code",
   "execution_count": null,
   "metadata": {
    "id": "ncUv98mowIS4"
   },
   "outputs": [],
   "source": [
    "#Your solution"
   ]
  },
  {
   "cell_type": "markdown",
   "metadata": {
    "id": "v-IfLoMtwIS4"
   },
   "source": [
    "d) Apply contrast enhancement to the original image. There are two ways for it: (1) by direct manipulation, and (2) through scikit-image command [rescale_intensity](https://scikit-image.org/docs/stable/api/skimage.exposure.html#skimage.exposure.rescale_intensity). Check the minimal and maximal values of the enhanced image, and compare them with the previous one. Show the two images  without graylevel enhancement."
   ]
  },
  {
   "cell_type": "code",
   "execution_count": null,
   "metadata": {
    "id": "vtR7tBa3wIS4"
   },
   "outputs": [],
   "source": [
    "#Your solution"
   ]
  },
  {
   "cell_type": "markdown",
   "metadata": {
    "id": "uYCrM6y5wIS8"
   },
   "source": [
    "e) Visualize the 5 images in the same figure, each one with its corresponding title."
   ]
  },
  {
   "cell_type": "code",
   "execution_count": null,
   "metadata": {
    "id": "aROQnnyrwIS8"
   },
   "outputs": [],
   "source": [
    "#Your solution"
   ]
  },
  {
   "cell_type": "markdown",
   "metadata": {
    "id": "X60j73VIwIS8"
   },
   "source": [
    "### 1.6 Color manipulation\n",
    "\n",
    "a) Read and visualize the image `images_notebook/Guell_Park.jpg` (see figure top). Extract its three channels and visualize them in the same figure with their respective titles (see the figure bottom).\n",
    "<img src=\"images_notebook/Guell_Park.jpg\">\n",
    "\n",
    "<img src=\"images_notebook/exchannels.png\">"
   ]
  },
  {
   "cell_type": "code",
   "execution_count": null,
   "metadata": {
    "id": "6d9IKVvrwIS8"
   },
   "outputs": [],
   "source": [
    "#Your solution"
   ]
  },
  {
   "cell_type": "markdown",
   "metadata": {
    "id": "OButYfpbwIS8"
   },
   "source": [
    "b) Construct and visualize a new image, interchanging the red and green channels."
   ]
  },
  {
   "cell_type": "code",
   "execution_count": null,
   "metadata": {
    "id": "RmlooNdBwIS8"
   },
   "outputs": [],
   "source": [
    "#Your solution"
   ]
  },
  {
   "cell_type": "markdown",
   "metadata": {
    "id": "iUMezNpWJHf9"
   },
   "source": [
    "c) Read and visualize the image images_notebook/donald_trump.jpg. Use the the bottom figure as an example to create a modern piece of art, extracting its three channels and embedding the image to a colored background.\n",
    "<img src=\"images_notebook/art_trump.jpg\" width=\"400\">\n",
    "\n",
    "Hint:extract the channel, fill with zeros the other 2 color channels. Using the alpha channel of the RGBA image, set those transparent to a solid color.\n",
    "In the image above we used the background colors: (255,255,0), (48,213,200) and (128,0,128)"
   ]
  },
  {
   "cell_type": "code",
   "execution_count": null,
   "metadata": {
    "id": "5J1m-nU_JHf9"
   },
   "outputs": [],
   "source": [
    "#Your solution"
   ]
  },
  {
   "cell_type": "markdown",
   "metadata": {
    "id": "zex_6D1CwIS8"
   },
   "source": [
    "### 1.7 Masks and logical image manipulation\n",
    "\n",
    "a) Read the image `images_notebook/circles.bmp` (see figure top) and define 3 images in such a way that each one contains only 1 ball (see figure bottom). Visualize the 3 images in the same figure, each one with its corresponding title.\n",
    "\n",
    "<img src=\"images_notebook/ex16.png\">\n",
    "\n",
    "**Note:** Be careful when applying `imshow` since it automatically increases the contrast of the image (putting minimum values to 0 and maximal to 1).\n",
    "\n",
    "**Note:** Be careful when applying type conversion. Check the ranges of the image values."
   ]
  },
  {
   "cell_type": "code",
   "execution_count": null,
   "metadata": {
    "id": "GuKTO6OqwIS8"
   },
   "outputs": [],
   "source": [
    "#Your solution"
   ]
  },
  {
   "cell_type": "markdown",
   "metadata": {
    "id": "uJA4JcTxwIS8"
   },
   "source": [
    "b) Given the images `images_notebook/coat.png` and `images_notebook/model.png` (first two images on the figure below), implement the necessary code to construct the image of the model with the coat (third image). Next find in internet an image with a texture and apply it to obtain an image of the jacket with the found texture (fourth image is only an example).\n",
    "\n",
    "<img src=\"images_notebook/ex17d.png\">\n",
    "\n",
    "**Note:** when applying [resize, rotate, etc...](https://scikit-image.org/docs/stable/auto_examples/transform/plot_rescale.html) keep track how the image type and values range change. When necessary, apply type conversion using [img_as_float, img_as_uint, img_as_ubyte.](https://scikit-image.org/docs/stable/api/skimage.html)\n",
    "\n",
    "**Note: DO NOT USE LOOPS to overlap the images!! It will be penalized.**\n"
   ]
  },
  {
   "cell_type": "code",
   "execution_count": null,
   "metadata": {
    "id": "NNM04_LhwIS8"
   },
   "outputs": [],
   "source": [
    "#Your solution"
   ]
  },
  {
   "cell_type": "markdown",
   "metadata": {
    "id": "4Sy9yByywIS8"
   },
   "source": []
  }
 ],
 "metadata": {
  "colab": {
   "provenance": []
  },
  "kernelspec": {
   "display_name": "Python 3 (ipykernel)",
   "language": "python",
   "name": "python3"
  },
  "language_info": {
   "codemirror_mode": {
    "name": "ipython",
    "version": 3
   },
   "file_extension": ".py",
   "mimetype": "text/x-python",
   "name": "python",
   "nbconvert_exporter": "python",
   "pygments_lexer": "ipython3",
   "version": "3.9.12"
  }
 },
 "nbformat": 4,
 "nbformat_minor": 1
}
